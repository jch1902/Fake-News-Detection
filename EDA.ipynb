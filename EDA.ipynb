{
 "cells": [
  {
   "cell_type": "code",
   "execution_count": null,
   "metadata": {},
   "outputs": [],
   "source": [
    "import re\n",
    "\n",
    "# Clean text\n",
    "def clean_text(text):\n",
    "    # Remove patterns at beginning of text such as \"WASHINGTON (Reuters) -\"\n",
    "    cleaned_text = re.sub(r\"^\\S+(?:\\s+\\S+)*\\s*\\([^)]+\\)\\s*-\", '', text)\n",
    "    return cleaned_text"
   ]
  },
  {
   "cell_type": "code",
   "execution_count": null,
   "metadata": {},
   "outputs": [
    {
     "data": {
      "text/plain": [
       "0         The head of a conservative Republican faction...\n",
       "1         Transgender people will be allowed for the fi...\n",
       "2         The special counsel investigation of links be...\n",
       "3         Trump campaign adviser George Papadopoulos to...\n",
       "4         President Donald Trump called on the U.S. Pos...\n",
       "                               ...                        \n",
       "44893    21st Century Wire says As 21WIRE reported earl...\n",
       "44894    21st Century Wire says It s a familiar theme. ...\n",
       "44895    Patrick Henningsen  21st Century WireRemember ...\n",
       "44896    21st Century Wire says Al Jazeera America will...\n",
       "44897    21st Century Wire says As 21WIRE predicted in ...\n",
       "Name: text, Length: 44898, dtype: object"
      ]
     },
     "execution_count": 108,
     "metadata": {},
     "output_type": "execute_result"
    }
   ],
   "source": [
    "import pandas as pd\n",
    "import numpy as np\n",
    "from sklearn.utils import shuffle\n",
    "\n",
    "# Combining true and false datasets\n",
    "true_df = pd.read_csv('True.csv')\n",
    "false_df = pd.read_csv('Fake.csv')\n",
    " \n",
    "true_df[\"fake_news_flag\"] = 0\n",
    "\n",
    "true_df['text'] = true_df['text'].apply(clean_text)\n",
    "false_df[\"fake_news_flag\"] = 1\n",
    "\n",
    "combined_df = pd.concat([true_df, false_df], ignore_index=True)\n",
    "\n",
    "combined_df[\"text\"]\n"
   ]
  },
  {
   "cell_type": "code",
   "execution_count": null,
   "metadata": {},
   "outputs": [
    {
     "name": "stdout",
     "output_type": "stream",
     "text": [
      "Original: IADSF DF (Reuters) - Nato\n",
      "Cleaned:  Nato\n"
     ]
    }
   ],
   "source": [
    "# Manually clean\n",
    "example_text = combined_df['text'].iloc[12300]\n",
    "example_text = \"IADSF DF (Reuters) - Nato\"\n",
    "cleaned_example = re.sub(r\"^\\S+(?:\\s+\\S+)*\\s*\\([^)]+\\)\\s*-\", '', example_text)\n",
    "print(f\"Original: {example_text}\")\n",
    "print(f\"Cleaned: {cleaned_example}\")\n"
   ]
  },
  {
   "cell_type": "code",
   "execution_count": null,
   "metadata": {},
   "outputs": [
    {
     "data": {
      "text/html": [
       "<div>\n",
       "<style scoped>\n",
       "    .dataframe tbody tr th:only-of-type {\n",
       "        vertical-align: middle;\n",
       "    }\n",
       "\n",
       "    .dataframe tbody tr th {\n",
       "        vertical-align: top;\n",
       "    }\n",
       "\n",
       "    .dataframe thead th {\n",
       "        text-align: right;\n",
       "    }\n",
       "</style>\n",
       "<table border=\"1\" class=\"dataframe\">\n",
       "  <thead>\n",
       "    <tr style=\"text-align: right;\">\n",
       "      <th></th>\n",
       "      <th>title</th>\n",
       "      <th>text</th>\n",
       "      <th>fake_news_flag</th>\n",
       "    </tr>\n",
       "  </thead>\n",
       "  <tbody>\n",
       "    <tr>\n",
       "      <th>0</th>\n",
       "      <td>LAW ENFORCEMENT ON HIGH ALERT Following Threat...</td>\n",
       "      <td>No comment is expected from Barack Obama Membe...</td>\n",
       "      <td>0</td>\n",
       "    </tr>\n",
       "    <tr>\n",
       "      <th>2</th>\n",
       "      <td>UNBELIEVABLE! OBAMA’S ATTORNEY GENERAL SAYS MO...</td>\n",
       "      <td>Now, most of the demonstrators gathered last ...</td>\n",
       "      <td>0</td>\n",
       "    </tr>\n",
       "    <tr>\n",
       "      <th>3</th>\n",
       "      <td>Bobby Jindal, raised Hindu, uses story of Chri...</td>\n",
       "      <td>A dozen politically active pastors came here f...</td>\n",
       "      <td>1</td>\n",
       "    </tr>\n",
       "    <tr>\n",
       "      <th>4</th>\n",
       "      <td>SATAN 2: Russia unvelis an image of its terrif...</td>\n",
       "      <td>The RS-28 Sarmat missile, dubbed Satan 2, will...</td>\n",
       "      <td>0</td>\n",
       "    </tr>\n",
       "    <tr>\n",
       "      <th>5</th>\n",
       "      <td>About Time! Christian Group Sues Amazon and SP...</td>\n",
       "      <td>All we can say on this one is it s about time ...</td>\n",
       "      <td>0</td>\n",
       "    </tr>\n",
       "  </tbody>\n",
       "</table>\n",
       "</div>"
      ],
      "text/plain": [
       "                                               title  \\\n",
       "0  LAW ENFORCEMENT ON HIGH ALERT Following Threat...   \n",
       "2  UNBELIEVABLE! OBAMA’S ATTORNEY GENERAL SAYS MO...   \n",
       "3  Bobby Jindal, raised Hindu, uses story of Chri...   \n",
       "4  SATAN 2: Russia unvelis an image of its terrif...   \n",
       "5  About Time! Christian Group Sues Amazon and SP...   \n",
       "\n",
       "                                                text  fake_news_flag  \n",
       "0  No comment is expected from Barack Obama Membe...               0  \n",
       "2   Now, most of the demonstrators gathered last ...               0  \n",
       "3  A dozen politically active pastors came here f...               1  \n",
       "4  The RS-28 Sarmat missile, dubbed Satan 2, will...               0  \n",
       "5  All we can say on this one is it s about time ...               0  "
      ]
     },
     "execution_count": 107,
     "metadata": {},
     "output_type": "execute_result"
    }
   ],
   "source": [
    "# Processing WELFake_Dataset.csv\n",
    "big_df = pd.read_csv(\"WELFake_Dataset.csv\")\n",
    "big_df[\"fake_news_flag\"] = big_df[\"label\"]\n",
    "big_df[\"fake_news_flag\"] = big_df[\"fake_news_flag\"].replace({0: 1, 1: 0})\n",
    "big_df.drop(columns=[\"Unnamed: 0\",\"label\"], inplace= True)\n",
    "big_df = big_df.dropna()\n",
    "big_df.head()"
   ]
  },
  {
   "cell_type": "code",
   "execution_count": null,
   "metadata": {},
   "outputs": [
    {
     "data": {
      "text/html": [
       "<div>\n",
       "<style scoped>\n",
       "    .dataframe tbody tr th:only-of-type {\n",
       "        vertical-align: middle;\n",
       "    }\n",
       "\n",
       "    .dataframe tbody tr th {\n",
       "        vertical-align: top;\n",
       "    }\n",
       "\n",
       "    .dataframe thead th {\n",
       "        text-align: right;\n",
       "    }\n",
       "</style>\n",
       "<table border=\"1\" class=\"dataframe\">\n",
       "  <thead>\n",
       "    <tr style=\"text-align: right;\">\n",
       "      <th></th>\n",
       "      <th>title</th>\n",
       "      <th>text</th>\n",
       "      <th>fake_news_flag</th>\n",
       "    </tr>\n",
       "  </thead>\n",
       "  <tbody>\n",
       "    <tr>\n",
       "      <th>76820</th>\n",
       "      <td>THIS ONE STATEMENT IS THE KEY TO THE 2016 ELEC...</td>\n",
       "      <td>Listen up people! This is great! Lou Dobbs get...</td>\n",
       "      <td>0</td>\n",
       "    </tr>\n",
       "    <tr>\n",
       "      <th>110268</th>\n",
       "      <td>Virginia court rules for Trump in travel ban d...</td>\n",
       "      <td>(Reuters) - A U.S. federal judge in Virginia r...</td>\n",
       "      <td>1</td>\n",
       "    </tr>\n",
       "    <tr>\n",
       "      <th>103694</th>\n",
       "      <td>Compromises being reached in Iran talks</td>\n",
       "      <td>Washington (CNN) Compromises on some of the cr...</td>\n",
       "      <td>1</td>\n",
       "    </tr>\n",
       "    <tr>\n",
       "      <th>860</th>\n",
       "      <td>Republican tax plan would deal financial hit t...</td>\n",
       "      <td>The Republican tax plan unveiled on Thursday ...</td>\n",
       "      <td>0</td>\n",
       "    </tr>\n",
       "    <tr>\n",
       "      <th>15795</th>\n",
       "      <td>U.N. refugee commissioner says Australia must ...</td>\n",
       "      <td>The U.N. High Commissioner for Refugees said ...</td>\n",
       "      <td>0</td>\n",
       "    </tr>\n",
       "  </tbody>\n",
       "</table>\n",
       "</div>"
      ],
      "text/plain": [
       "                                                    title  \\\n",
       "76820   THIS ONE STATEMENT IS THE KEY TO THE 2016 ELEC...   \n",
       "110268  Virginia court rules for Trump in travel ban d...   \n",
       "103694            Compromises being reached in Iran talks   \n",
       "860     Republican tax plan would deal financial hit t...   \n",
       "15795   U.N. refugee commissioner says Australia must ...   \n",
       "\n",
       "                                                     text  fake_news_flag  \n",
       "76820   Listen up people! This is great! Lou Dobbs get...               0  \n",
       "110268  (Reuters) - A U.S. federal judge in Virginia r...               1  \n",
       "103694  Washington (CNN) Compromises on some of the cr...               1  \n",
       "860      The Republican tax plan unveiled on Thursday ...               0  \n",
       "15795    The U.N. High Commissioner for Refugees said ...               0  "
      ]
     },
     "execution_count": 109,
     "metadata": {},
     "output_type": "execute_result"
    }
   ],
   "source": [
    "\n",
    "# Dropping columns and adding the processed WELFake_Dataset data\n",
    "combined_df.drop(columns=['date','subject'], inplace= True)\n",
    "\n",
    "combined_df = pd.concat([combined_df, big_df], ignore_index=True)\n",
    "\n",
    "combined_df = shuffle(combined_df, random_state=42)\n",
    "combined_df.head()\n",
    "combined_df.tail()\n",
    "\n"
   ]
  },
  {
   "cell_type": "code",
   "execution_count": null,
   "metadata": {},
   "outputs": [],
   "source": [
    "# Saving new full dataset to CSV to easily use later\n",
    "combined_df.to_csv('fulldata.csv', index=False)"
   ]
  }
 ],
 "metadata": {
  "kernelspec": {
   "display_name": "Python 3",
   "language": "python",
   "name": "python3"
  },
  "language_info": {
   "codemirror_mode": {
    "name": "ipython",
    "version": 3
   },
   "file_extension": ".py",
   "mimetype": "text/x-python",
   "name": "python",
   "nbconvert_exporter": "python",
   "pygments_lexer": "ipython3",
   "version": "3.9.6"
  }
 },
 "nbformat": 4,
 "nbformat_minor": 2
}
